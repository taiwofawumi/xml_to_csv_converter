{
 "cells": [
  {
   "cell_type": "code",
   "execution_count": null,
   "id": "61b7d810",
   "metadata": {},
   "outputs": [],
   "source": [
    "# import libraries\n",
    "from bs4 import BeautifulSoup\n",
    "import pandas as pd\n",
    "import warnings\n",
    "warnings.filterwarnings(\"ignore\")\n",
    "import tkinter as tk\n",
    "from tkinter import filedialog"
   ]
  },
  {
   "cell_type": "code",
   "execution_count": null,
   "id": "519ec8d2",
   "metadata": {},
   "outputs": [],
   "source": [
    "# config\n",
    "x_path = \"Job\"\n",
    "columns=['job_id', 'display_job_id', 'title', 'company', 'job_description', 'status', 'is_open',\n",
    "                  'posted_for', 'creation_ts', 'last_modified_ts', 'custom_info', 'location_list', 'posting_url',\n",
    "                  'hiring_manager', 'recruiter', 'job_function', 'business_unit']"
   ]
  },
  {
   "cell_type": "code",
   "execution_count": null,
   "id": "3272e08c",
   "metadata": {},
   "outputs": [],
   "source": [
    "def get_xml_file():\n",
    "    root = tk.Tk()\n",
    "    root.withdraw()\n",
    "    xml_file = filedialog.askopenfilename()\n",
    "    print(f'FILE: {xml_file}')\n",
    "    return xml_file"
   ]
  },
  {
   "cell_type": "code",
   "execution_count": null,
   "id": "0dadfca1",
   "metadata": {},
   "outputs": [],
   "source": [
    "def parse_xml(filename):\n",
    "    with open(filename,'r', encoding='utf-8') as xml_file:\n",
    "        soup = BeautifulSoup(xml_file, 'lxml-xml')\n",
    "    return soup"
   ]
  },
  {
   "cell_type": "code",
   "execution_count": 1,
   "id": "2af0028f",
   "metadata": {},
   "outputs": [],
   "source": [
    "def convert_xml_to_df(filename, x_path):\n",
    "    xml_data = parse_xml(filename)\n",
    "    df = pd.DataFrame(columns=columns)\n",
    "    for row in xml_data.find_all(x_path):\n",
    "        xml_col = []\n",
    "        xml_val = []\n",
    "        for column in row.contents:\n",
    "            col = column.name\n",
    "            val = column.text\n",
    "            xml_col.append(col)\n",
    "            xml_val.append(val)       \n",
    "            df = df.append({xml_col[0]:xml_val[0], xml_col[1]:xml_val[1], xml_col[2]:xml_val[2], xml_col[3]:xml_val[3],\n",
    "                       xml_col[4]:xml_val[4], xml_col[5]:xml_val[5], xml_col[6]:xml_val[6], xml_col[7]:xml_val[7],\n",
    "                       xml_col[8]:xml_val[8], xml_col[9]:xml_val[9], xml_col[10]:xml_val[10], xml_col[11]:xml_val[11],\n",
    "                       xml_col[12]:xml_val[12], xml_col[13]:xml_val[13], xml_col[14]:xml_val[14], xml_col[15]:xml_val[15],\n",
    "                       xml_col[16]:xml_val[16]}, ignore_index=True)\n",
    "    df['job_description'] = df['job_description'].map(lambda x: x.lstrip('\\t<p>').rstrip('</p>'))\n",
    "    return df"
   ]
  },
  {
   "cell_type": "code",
   "execution_count": null,
   "id": "ba063a07",
   "metadata": {},
   "outputs": [],
   "source": [
    "# get xml file\n",
    "xml_file = get_xml_file()\n",
    "xml_data = parse_xml(xml_file)"
   ]
  },
  {
   "cell_type": "code",
   "execution_count": null,
   "id": "a5b4ad23",
   "metadata": {},
   "outputs": [],
   "source": [
    "# convert xml to df\n",
    "df = convert_xml_to_df(xml_data,x_path)"
   ]
  },
  {
   "cell_type": "code",
   "execution_count": null,
   "id": "ef56f4a6",
   "metadata": {},
   "outputs": [],
   "source": [
    "# load to csv\n",
    "df.to_csv(\"xml_converted.csv\")"
   ]
  }
 ],
 "metadata": {
  "kernelspec": {
   "display_name": "Python 3 (ipykernel)",
   "language": "python",
   "name": "python3"
  },
  "language_info": {
   "codemirror_mode": {
    "name": "ipython",
    "version": 3
   },
   "file_extension": ".py",
   "mimetype": "text/x-python",
   "name": "python",
   "nbconvert_exporter": "python",
   "pygments_lexer": "ipython3",
   "version": "3.9.7"
  }
 },
 "nbformat": 4,
 "nbformat_minor": 5
}
